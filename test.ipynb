{
 "cells": [
  {
   "cell_type": "code",
   "execution_count": null,
   "id": "f2590a02",
   "metadata": {
    "vscode": {
     "languageId": "plaintext"
    }
   },
   "outputs": [],
   "source": [
    "import numpy as np\n",
    "import matplotlib.pyplot as plt\n",
    "\n",
    "# Create figure with two subplots side by side\n",
    "fig, (ax1, ax2) = plt.subplots(1, 2, figsize=(12, 5))\n",
    "\n",
    "# Plot 1: Log Odds\n",
    "# Log odds = ln(p / (1 - p))\n",
    "# We'll plot this for probabilities from 0.01 to 0.99 to avoid division by zero\n",
    "p = np.linspace(0.01, 0.99, 1000)\n",
    "log_odds = np.log(p / (1 - p))\n",
    "\n",
    "ax1.plot(p, log_odds, 'b-', linewidth=2)\n",
    "ax1.set_xlabel('Probability (p)', fontsize=12)\n",
    "ax1.set_ylabel('Log Odds = ln(p / (1-p))', fontsize=12)\n",
    "ax1.set_title('Log Odds Function', fontsize=14, fontweight='bold')\n",
    "ax1.grid(True, alpha=0.3)\n",
    "ax1.axhline(y=0, color='k', linestyle='--', alpha=0.5)\n",
    "ax1.axvline(x=0.5, color='k', linestyle='--', alpha=0.5)\n",
    "\n",
    "# Plot 2: Sigmoid Function\n",
    "# Sigmoid = 1 / (1 + exp(-x))\n",
    "x = np.linspace(-6, 6, 1000)\n",
    "sigmoid = 1 / (1 + np.exp(-x))\n",
    "\n",
    "ax2.plot(x, sigmoid, 'r-', linewidth=2)\n",
    "ax2.set_xlabel('x (log odds)', fontsize=12)\n",
    "ax2.set_ylabel('Sigmoid = 1 / (1 + e^(-x))', fontsize=12)\n",
    "ax2.set_title('Sigmoid Function', fontsize=14, fontweight='bold')\n",
    "ax2.grid(True, alpha=0.3)\n",
    "ax2.axhline(y=0.5, color='k', linestyle='--', alpha=0.5)\n",
    "ax2.axvline(x=0, color='k', linestyle='--', alpha=0.5)\n",
    "\n",
    "# Adjust layout to prevent overlap\n",
    "plt.tight_layout()\n",
    "\n",
    "# Show the plot\n",
    "plt.show()"
   ]
  }
 ],
 "metadata": {
  "language_info": {
   "name": "python"
  }
 },
 "nbformat": 4,
 "nbformat_minor": 5
}
